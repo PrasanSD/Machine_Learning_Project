{
  "nbformat": 4,
  "nbformat_minor": 0,
  "metadata": {
    "colab": {
      "name": "VAETF02.ipynb",
      "provenance": []
    },
    "kernelspec": {
      "name": "python3",
      "display_name": "Python 3"
    },
    "accelerator": "GPU"
  },
  "cells": [
    {
      "cell_type": "code",
      "metadata": {
        "id": "LObxgjQazBE8"
      },
      "source": [
        "#Keras imports\r\n",
        "#from keras.models import Sequential #Sequential model class\r\n",
        "from keras.models import Model #Functional model for generic network architecture\r\n",
        "from keras.models import Sequential\r\n",
        "\r\n",
        "from keras.layers import Dense, Flatten, Conv2D, Conv2DTranspose, Reshape\r\n",
        "from keras.layers import Input #the Input layer is specific to the functional API and specifies the input dimensions\r\n",
        "from keras.layers import Lambda #Lamda layer used for designing a custom layer function\r\n",
        "\r\n",
        "#Import LeakyReLU activation function. It allows the learning algorithm to correct neuron's weight's if the output is zero (dead neuron)\r\n",
        "from keras.layers.advanced_activations import LeakyReLU \r\n",
        "\r\n",
        "#Import underlying backend (Tensorflow) to perform high-speed operations on tensors\r\n",
        "import keras.backend as K\r\n",
        "\r\n",
        "import numpy as np #numerical library numpy\r\n",
        "\r\n",
        "#Import dataset\r\n",
        "from keras.datasets import mnist\r\n",
        "\r\n",
        "#Visualization\r\n",
        "import matplotlib.pyplot as plt #visualization library"
      ],
      "execution_count": 1,
      "outputs": []
    },
    {
      "cell_type": "code",
      "metadata": {
        "colab": {
          "base_uri": "https://localhost:8080/"
        },
        "id": "NEHGkXRZzYMR",
        "outputId": "fe019a5b-72f5-4c75-c843-ecd1e937cdea"
      },
      "source": [
        "#Load train and test data\r\n",
        "(X_train, Y_train), (X_test, Y_test) = mnist.load_data()"
      ],
      "execution_count": 2,
      "outputs": [
        {
          "output_type": "stream",
          "text": [
            "Downloading data from https://storage.googleapis.com/tensorflow/tf-keras-datasets/mnist.npz\n",
            "11493376/11490434 [==============================] - 0s 0us/step\n"
          ],
          "name": "stdout"
        }
      ]
    },
    {
      "cell_type": "code",
      "metadata": {
        "colab": {
          "base_uri": "https://localhost:8080/"
        },
        "id": "LiBTNt33zdgM",
        "outputId": "2e6e8659-4ed9-4307-b197-8621745728b5"
      },
      "source": [
        "print('Dimensioni input training set: ', X_train.shape)\r\n",
        "print('Dimensioni output training set: ', Y_train.shape)\r\n",
        "\r\n",
        "print('Dimensioni input training set: ', X_test.shape)\r\n",
        "print('Dimensioni output training set: ', Y_test.shape)"
      ],
      "execution_count": 3,
      "outputs": [
        {
          "output_type": "stream",
          "text": [
            "Dimensioni input training set:  (60000, 28, 28)\n",
            "Dimensioni output training set:  (60000,)\n",
            "Dimensioni input training set:  (10000, 28, 28)\n",
            "Dimensioni output training set:  (10000,)\n"
          ],
          "name": "stdout"
        }
      ]
    },
    {
      "cell_type": "code",
      "metadata": {
        "colab": {
          "base_uri": "https://localhost:8080/",
          "height": 282
        },
        "id": "WO1FQ-YRzhc7",
        "outputId": "4e40e7c3-da70-4965-a444-f3442b93c1cf"
      },
      "source": [
        "#Peeking into the training set\r\n",
        "\r\n",
        "index = 2\r\n",
        "\r\n",
        "plt.imshow(X_train[index], cmap='gray') #Show input image at index with grayscale colormap\r\n",
        "print('Label: ', Y_train[index])"
      ],
      "execution_count": 4,
      "outputs": [
        {
          "output_type": "stream",
          "text": [
            "Label:  4\n"
          ],
          "name": "stdout"
        },
        {
          "output_type": "display_data",
          "data": {
            "image/png": "[encoded data removed]",
            "text/plain": [
              "<Figure size 432x288 with 1 Axes>"
            ]
          },
          "metadata": {
            "tags": [],
            "needs_background": "light"
          }
        }
      ]
    },
    {
      "cell_type": "code",
      "metadata": {
        "id": "jP4Ud7Le0OtE"
      },
      "source": [
        "X_train = X_train.astype('float32') /255 #casting to float and normalizing input in the [0,1] interval\r\n",
        "X_test = X_test.astype('float32') /255 #casting to float and normalizing input in the [0,1] interval"
      ],
      "execution_count": 5,
      "outputs": []
    },
    {
      "cell_type": "code",
      "metadata": {
        "colab": {
          "base_uri": "https://localhost:8080/"
        },
        "id": "JKR8kEUs0Rrl",
        "outputId": "45ae39f4-a25b-4376-d50b-2d9e43aa0ce0"
      },
      "source": [
        "#Forcing (#samples, width, height, #channels) dimensions with a reshape operation\r\n",
        "\r\n",
        "train_dim = X_train.shape + (1, ) #input dimensions by concatenating original dims with (1,)\r\n",
        "test_dim = X_test.shape + (1, ) #input dimensions by concatenating original dims with (1,)\r\n",
        "\r\n",
        "print(train_dim)\r\n",
        "print(test_dim)"
      ],
      "execution_count": 6,
      "outputs": [
        {
          "output_type": "stream",
          "text": [
            "(60000, 28, 28, 1)\n",
            "(10000, 28, 28, 1)\n"
          ],
          "name": "stdout"
        }
      ]
    },
    {
      "cell_type": "code",
      "metadata": {
        "id": "aDfPzvvI15dA"
      },
      "source": [
        "X_train = np.reshape(X_train, train_dim) #reshaping calling reshape method of the numpy library\r\n",
        "X_test = np.reshape(X_test, test_dim) #reshaping calling reshape method of the numpy library"
      ],
      "execution_count": 7,
      "outputs": []
    },
    {
      "cell_type": "code",
      "metadata": {
        "colab": {
          "base_uri": "https://localhost:8080/"
        },
        "id": "u-YyFJI21_6t",
        "outputId": "1d2e1358-19b6-4ba4-b174-9ce00bc1e376"
      },
      "source": [
        "print(X_train.shape)\r\n",
        "print(X_test.shape)"
      ],
      "execution_count": 8,
      "outputs": [
        {
          "output_type": "stream",
          "text": [
            "(60000, 28, 28, 1)\n",
            "(10000, 28, 28, 1)\n"
          ],
          "name": "stdout"
        }
      ]
    },
    {
      "cell_type": "code",
      "metadata": {
        "colab": {
          "base_uri": "https://localhost:8080/"
        },
        "id": "wKdgqx682CtX",
        "outputId": "023a1480-82f6-4578-fe84-11c8441fa930"
      },
      "source": [
        "inShape = X_train.shape[1:]\r\n",
        "print('Single input shape: ', inShape)\r\n",
        "\r\n",
        "latent_dim = 2 #Latent space dimension: 2D is easy to visualize, for better reconstruction performance try 16 or greater"
      ],
      "execution_count": 9,
      "outputs": [
        {
          "output_type": "stream",
          "text": [
            "Single input shape:  (28, 28, 1)\n"
          ],
          "name": "stdout"
        }
      ]
    },
    {
      "cell_type": "code",
      "metadata": {
        "colab": {
          "base_uri": "https://localhost:8080/"
        },
        "id": "SwqXc3TX2GXd",
        "outputId": "52861848-c949-4ec7-ec83-50b2a82c40d7"
      },
      "source": [
        "encoder = Sequential() #instance of the Sequential class\r\n",
        "\r\n",
        "encoder.add(Conv2D(filters=32, kernel_size=3, strides=1, padding='same', activation='relu', input_shape= inShape))\r\n",
        "encoder.add(Conv2D(filters=64, kernel_size=3, strides=2, padding='same', activation='relu'))\r\n",
        "encoder.add(Conv2D(filters=64, kernel_size=3, strides=2, padding='same', activation='relu'))\r\n",
        "encoder.add(Conv2D(filters=64, kernel_size=3, strides=1, padding='same', activation='relu'))\r\n",
        "\r\n",
        "encShapeBeforeFlatten = encoder.output_shape[1:] #save dimensions of output feature map before flattening\r\n",
        "print('Encoder output shape before flatten: ', encShapeBeforeFlatten)\r\n",
        "\r\n",
        "encoder.add(Flatten()) #flatten 2D output from previous layer into a 1D array\r\n",
        "\r\n",
        "encoder.add(Dense(units=latent_dim, name='Latent_vector')) #NO activation!\r\n",
        "\r\n",
        "encoder.summary()"
      ],
      "execution_count": 10,
      "outputs": [
        {
          "output_type": "stream",
          "text": [
            "Encoder output shape before flatten:  (7, 7, 64)\n",
            "Model: \"sequential\"\n",
            "_________________________________________________________________\n",
            "Layer (type)                 Output Shape              Param #   \n",
            "=================================================================\n",
            "conv2d (Conv2D)              (None, 28, 28, 32)        320       \n",
            "_________________________________________________________________\n",
            "conv2d_1 (Conv2D)            (None, 14, 14, 64)        18496     \n",
            "_________________________________________________________________\n",
            "conv2d_2 (Conv2D)            (None, 7, 7, 64)          36928     \n",
            "_________________________________________________________________\n",
            "conv2d_3 (Conv2D)            (None, 7, 7, 64)          36928     \n",
            "_________________________________________________________________\n",
            "flatten (Flatten)            (None, 3136)              0         \n",
            "_________________________________________________________________\n",
            "Latent_vector (Dense)        (None, 2)                 6274      \n",
            "=================================================================\n",
            "Total params: 98,946\n",
            "Trainable params: 98,946\n",
            "Non-trainable params: 0\n",
            "_________________________________________________________________\n"
          ],
          "name": "stdout"
        }
      ]
    },
    {
      "cell_type": "code",
      "metadata": {
        "colab": {
          "base_uri": "https://localhost:8080/"
        },
        "id": "9KY8j8Go2T0s",
        "outputId": "cc1de2ca-d0ce-413f-848e-59ce4470e495"
      },
      "source": [
        "decoder = Sequential()\r\n",
        "\r\n",
        "decoder.add(Dense(units=np.prod(encShapeBeforeFlatten), input_dim=latent_dim)) \r\n",
        "decoder.add(Reshape(encShapeBeforeFlatten)) #reshape input into encShapeBeforeFlatten resolution\r\n",
        "decoder.add(Conv2DTranspose(filters=64, kernel_size=3, strides=1, activation='relu', padding='same'))\r\n",
        "decoder.add(Conv2DTranspose(filters=64, kernel_size=3, strides=2, activation='relu', padding='same'))\r\n",
        "decoder.add(Conv2DTranspose(filters=32, kernel_size=3, strides=2, activation='relu', padding='same'))\r\n",
        "decoder.add(Conv2DTranspose(filters=1, kernel_size=3, strides=1, activation='sigmoid', padding='same'))\r\n",
        "\r\n",
        "print(decoder.output_shape)\r\n",
        "decoder.summary()"
      ],
      "execution_count": 11,
      "outputs": [
        {
          "output_type": "stream",
          "text": [
            "(None, 28, 28, 1)\n",
            "Model: \"sequential_1\"\n",
            "_________________________________________________________________\n",
            "Layer (type)                 Output Shape              Param #   \n",
            "=================================================================\n",
            "dense (Dense)                (None, 3136)              9408      \n",
            "_________________________________________________________________\n",
            "reshape (Reshape)            (None, 7, 7, 64)          0         \n",
            "_________________________________________________________________\n",
            "conv2d_transpose (Conv2DTran (None, 7, 7, 64)          36928     \n",
            "_________________________________________________________________\n",
            "conv2d_transpose_1 (Conv2DTr (None, 14, 14, 64)        36928     \n",
            "_________________________________________________________________\n",
            "conv2d_transpose_2 (Conv2DTr (None, 28, 28, 32)        18464     \n",
            "_________________________________________________________________\n",
            "conv2d_transpose_3 (Conv2DTr (None, 28, 28, 1)         289       \n",
            "=================================================================\n",
            "Total params: 102,017\n",
            "Trainable params: 102,017\n",
            "Non-trainable params: 0\n",
            "_________________________________________________________________\n"
          ],
          "name": "stdout"
        }
      ]
    },
    {
      "cell_type": "code",
      "metadata": {
        "colab": {
          "base_uri": "https://localhost:8080/"
        },
        "id": "1U4k7KiZ2lRp",
        "outputId": "43429a49-a177-46d4-8f8d-a7a3bbf7a00a"
      },
      "source": [
        "autoencoder = Sequential()\r\n",
        "\r\n",
        "autoencoder.add(encoder)\r\n",
        "autoencoder.add(decoder)\r\n",
        "\r\n",
        "autoencoder.summary()"
      ],
      "execution_count": 12,
      "outputs": [
        {
          "output_type": "stream",
          "text": [
            "Model: \"sequential_2\"\n",
            "_________________________________________________________________\n",
            "Layer (type)                 Output Shape              Param #   \n",
            "=================================================================\n",
            "sequential (Sequential)      (None, 2)                 98946     \n",
            "_________________________________________________________________\n",
            "sequential_1 (Sequential)    (None, 28, 28, 1)         102017    \n",
            "=================================================================\n",
            "Total params: 200,963\n",
            "Trainable params: 200,963\n",
            "Non-trainable params: 0\n",
            "_________________________________________________________________\n"
          ],
          "name": "stdout"
        }
      ]
    },
    {
      "cell_type": "code",
      "metadata": {
        "id": "Gf4CyzwO2okZ"
      },
      "source": [
        "#Specify loss function and optimizer\r\n",
        "autoencoder.compile(loss='binary_crossentropy', optimizer='adam')"
      ],
      "execution_count": 13,
      "outputs": []
    },
    {
      "cell_type": "code",
      "metadata": {
        "colab": {
          "base_uri": "https://localhost:8080/"
        },
        "id": "LAWMroqS2ruR",
        "outputId": "810ed6a0-5305-4d15-a053-a3b7432e48b1"
      },
      "source": [
        "autoencoder.fit(X_train, X_train, epochs=100, batch_size=32, validation_data=(X_test, X_test))"
      ],
      "execution_count": 14,
      "outputs": [
        {
          "output_type": "stream",
          "text": [
            "Epoch 1/100\n",
            "1875/1875 [==============================] - 8s 4ms/step - loss: 0.2192 - val_loss: 0.1971\n",
            "Epoch 2/100\n",
            "1875/1875 [==============================] - 7s 4ms/step - loss: 0.1915 - val_loss: 0.1866\n",
            "Epoch 3/100\n",
            "1875/1875 [==============================] - 7s 4ms/step - loss: 0.1849 - val_loss: 0.1834\n",
            "Epoch 4/100\n",
            "1875/1875 [==============================] - 7s 4ms/step - loss: 0.1818 - val_loss: 0.1818\n",
            "Epoch 5/100\n",
            "1875/1875 [==============================] - 7s 4ms/step - loss: 0.1799 - val_loss: 0.1801\n",
            "Epoch 6/100\n",
            "1875/1875 [==============================] - 7s 4ms/step - loss: 0.1782 - val_loss: 0.1782\n",
            "Epoch 7/100\n",
            "1875/1875 [==============================] - 7s 4ms/step - loss: 0.1769 - val_loss: 0.1773\n",
            "Epoch 8/100\n",
            "1875/1875 [==============================] - 7s 4ms/step - loss: 0.1759 - val_loss: 0.1766\n",
            "Epoch 9/100\n",
            "1875/1875 [==============================] - 8s 4ms/step - loss: 0.1750 - val_loss: 0.1758\n",
            "Epoch 10/100\n",
            "1875/1875 [==============================] - 7s 4ms/step - loss: 0.1742 - val_loss: 0.1751\n",
            "Epoch 11/100\n",
            "1875/1875 [==============================] - 7s 4ms/step - loss: 0.1735 - val_loss: 0.1749\n",
            "Epoch 12/100\n",
            "1875/1875 [==============================] - 7s 4ms/step - loss: 0.1728 - val_loss: 0.1751\n",
            "Epoch 13/100\n",
            "1875/1875 [==============================] - 8s 4ms/step - loss: 0.1723 - val_loss: 0.1741\n",
            "Epoch 14/100\n",
            "1875/1875 [==============================] - 8s 4ms/step - loss: 0.1717 - val_loss: 0.1744\n",
            "Epoch 15/100\n",
            "1875/1875 [==============================] - 8s 4ms/step - loss: 0.1714 - val_loss: 0.1747\n",
            "Epoch 16/100\n",
            "1875/1875 [==============================] - 8s 4ms/step - loss: 0.1711 - val_loss: 0.1736\n",
            "Epoch 17/100\n",
            "1875/1875 [==============================] - 8s 4ms/step - loss: 0.1706 - val_loss: 0.1734\n",
            "Epoch 18/100\n",
            "1875/1875 [==============================] - 8s 4ms/step - loss: 0.1703 - val_loss: 0.1737\n",
            "Epoch 19/100\n",
            "1875/1875 [==============================] - 8s 4ms/step - loss: 0.1701 - val_loss: 0.1726\n",
            "Epoch 20/100\n",
            "1875/1875 [==============================] - 8s 4ms/step - loss: 0.1697 - val_loss: 0.1728\n",
            "Epoch 21/100\n",
            "1875/1875 [==============================] - 8s 4ms/step - loss: 0.1694 - val_loss: 0.1737\n",
            "Epoch 22/100\n",
            "1875/1875 [==============================] - 8s 4ms/step - loss: 0.1691 - val_loss: 0.1721\n",
            "Epoch 23/100\n",
            "1875/1875 [==============================] - 8s 4ms/step - loss: 0.1689 - val_loss: 0.1725\n",
            "Epoch 24/100\n",
            "1875/1875 [==============================] - 8s 4ms/step - loss: 0.1687 - val_loss: 0.1723\n",
            "Epoch 25/100\n",
            "1875/1875 [==============================] - 8s 4ms/step - loss: 0.1685 - val_loss: 0.1726\n",
            "Epoch 26/100\n",
            "1875/1875 [==============================] - 8s 4ms/step - loss: 0.1682 - val_loss: 0.1721\n",
            "Epoch 27/100\n",
            "1875/1875 [==============================] - 8s 4ms/step - loss: 0.1681 - val_loss: 0.1723\n",
            "Epoch 28/100\n",
            "1875/1875 [==============================] - 8s 4ms/step - loss: 0.1679 - val_loss: 0.1726\n",
            "Epoch 29/100\n",
            "1875/1875 [==============================] - 8s 4ms/step - loss: 0.1677 - val_loss: 0.1722\n",
            "Epoch 30/100\n",
            "1875/1875 [==============================] - 8s 4ms/step - loss: 0.1676 - val_loss: 0.1725\n",
            "Epoch 31/100\n",
            "1875/1875 [==============================] - 8s 4ms/step - loss: 0.1675 - val_loss: 0.1728\n",
            "Epoch 32/100\n",
            "1875/1875 [==============================] - 8s 4ms/step - loss: 0.1672 - val_loss: 0.1721\n",
            "Epoch 33/100\n",
            "1875/1875 [==============================] - 8s 4ms/step - loss: 0.1671 - val_loss: 0.1718\n",
            "Epoch 34/100\n",
            "1875/1875 [==============================] - 8s 4ms/step - loss: 0.1670 - val_loss: 0.1723\n",
            "Epoch 35/100\n",
            "1875/1875 [==============================] - 8s 4ms/step - loss: 0.1668 - val_loss: 0.1723\n",
            "Epoch 36/100\n",
            "1875/1875 [==============================] - 8s 4ms/step - loss: 0.1667 - val_loss: 0.1716\n",
            "Epoch 37/100\n",
            "1875/1875 [==============================] - 8s 4ms/step - loss: 0.1664 - val_loss: 0.1715\n",
            "Epoch 38/100\n",
            "1875/1875 [==============================] - 8s 4ms/step - loss: 0.1664 - val_loss: 0.1716\n",
            "Epoch 39/100\n",
            "1875/1875 [==============================] - 8s 4ms/step - loss: 0.1663 - val_loss: 0.1715\n",
            "Epoch 40/100\n",
            "1875/1875 [==============================] - 8s 4ms/step - loss: 0.1661 - val_loss: 0.1717\n",
            "Epoch 41/100\n",
            "1875/1875 [==============================] - 8s 4ms/step - loss: 0.1659 - val_loss: 0.1719\n",
            "Epoch 42/100\n",
            "1875/1875 [==============================] - 8s 4ms/step - loss: 0.1661 - val_loss: 0.1713\n",
            "Epoch 43/100\n",
            "1875/1875 [==============================] - 8s 4ms/step - loss: 0.1658 - val_loss: 0.1713\n",
            "Epoch 44/100\n",
            "1875/1875 [==============================] - 8s 4ms/step - loss: 0.1657 - val_loss: 0.1724\n",
            "Epoch 45/100\n",
            "1875/1875 [==============================] - 8s 4ms/step - loss: 0.1657 - val_loss: 0.1721\n",
            "Epoch 46/100\n",
            "1875/1875 [==============================] - 8s 4ms/step - loss: 0.1655 - val_loss: 0.1722\n",
            "Epoch 47/100\n",
            "1875/1875 [==============================] - 8s 4ms/step - loss: 0.1655 - val_loss: 0.1714\n",
            "Epoch 48/100\n",
            "1875/1875 [==============================] - 8s 4ms/step - loss: 0.1654 - val_loss: 0.1713\n",
            "Epoch 49/100\n",
            "1875/1875 [==============================] - 8s 4ms/step - loss: 0.1653 - val_loss: 0.1717\n",
            "Epoch 50/100\n",
            "1875/1875 [==============================] - 8s 4ms/step - loss: 0.1653 - val_loss: 0.1716\n",
            "Epoch 51/100\n",
            "1875/1875 [==============================] - 8s 4ms/step - loss: 0.1652 - val_loss: 0.1712\n",
            "Epoch 52/100\n",
            "1875/1875 [==============================] - 8s 4ms/step - loss: 0.1650 - val_loss: 0.1718\n",
            "Epoch 53/100\n",
            "1875/1875 [==============================] - 8s 4ms/step - loss: 0.1651 - val_loss: 0.1716\n",
            "Epoch 54/100\n",
            "1875/1875 [==============================] - 8s 4ms/step - loss: 0.1649 - val_loss: 0.1723\n",
            "Epoch 55/100\n",
            "1875/1875 [==============================] - 8s 4ms/step - loss: 0.1648 - val_loss: 0.1721\n",
            "Epoch 56/100\n",
            "1875/1875 [==============================] - 8s 4ms/step - loss: 0.1647 - val_loss: 0.1722\n",
            "Epoch 57/100\n",
            "1875/1875 [==============================] - 8s 4ms/step - loss: 0.1647 - val_loss: 0.1716\n",
            "Epoch 58/100\n",
            "1875/1875 [==============================] - 8s 4ms/step - loss: 0.1648 - val_loss: 0.1713\n",
            "Epoch 59/100\n",
            "1875/1875 [==============================] - 8s 4ms/step - loss: 0.1645 - val_loss: 0.1719\n",
            "Epoch 60/100\n",
            "1875/1875 [==============================] - 8s 4ms/step - loss: 0.1645 - val_loss: 0.1719\n",
            "Epoch 61/100\n",
            "1875/1875 [==============================] - 8s 4ms/step - loss: 0.1643 - val_loss: 0.1719\n",
            "Epoch 62/100\n",
            "1875/1875 [==============================] - 8s 4ms/step - loss: 0.1643 - val_loss: 0.1715\n",
            "Epoch 63/100\n",
            "1875/1875 [==============================] - 8s 4ms/step - loss: 0.1642 - val_loss: 0.1715\n",
            "Epoch 64/100\n",
            "1875/1875 [==============================] - 8s 4ms/step - loss: 0.1642 - val_loss: 0.1733\n",
            "Epoch 65/100\n",
            "1875/1875 [==============================] - 8s 4ms/step - loss: 0.1642 - val_loss: 0.1718\n",
            "Epoch 66/100\n",
            "1875/1875 [==============================] - 8s 4ms/step - loss: 0.1641 - val_loss: 0.1717\n",
            "Epoch 67/100\n",
            "1875/1875 [==============================] - 8s 4ms/step - loss: 0.1640 - val_loss: 0.1714\n",
            "Epoch 68/100\n",
            "1875/1875 [==============================] - 8s 4ms/step - loss: 0.1639 - val_loss: 0.1713\n",
            "Epoch 69/100\n",
            "1875/1875 [==============================] - 8s 4ms/step - loss: 0.1640 - val_loss: 0.1717\n",
            "Epoch 70/100\n",
            "1875/1875 [==============================] - 8s 4ms/step - loss: 0.1639 - val_loss: 0.1720\n",
            "Epoch 71/100\n",
            "1875/1875 [==============================] - 8s 4ms/step - loss: 0.1637 - val_loss: 0.1728\n",
            "Epoch 72/100\n",
            "1875/1875 [==============================] - 8s 4ms/step - loss: 0.1638 - val_loss: 0.1718\n",
            "Epoch 73/100\n",
            "1875/1875 [==============================] - 8s 4ms/step - loss: 0.1637 - val_loss: 0.1712\n",
            "Epoch 74/100\n",
            "1875/1875 [==============================] - 8s 4ms/step - loss: 0.1638 - val_loss: 0.1716\n",
            "Epoch 75/100\n",
            "1875/1875 [==============================] - 8s 4ms/step - loss: 0.1636 - val_loss: 0.1715\n",
            "Epoch 76/100\n",
            "1875/1875 [==============================] - 8s 4ms/step - loss: 0.1635 - val_loss: 0.1719\n",
            "Epoch 77/100\n",
            "1875/1875 [==============================] - 8s 4ms/step - loss: 0.1635 - val_loss: 0.1717\n",
            "Epoch 78/100\n",
            "1875/1875 [==============================] - 8s 4ms/step - loss: 0.1635 - val_loss: 0.1713\n",
            "Epoch 79/100\n",
            "1875/1875 [==============================] - 8s 4ms/step - loss: 0.1634 - val_loss: 0.1730\n",
            "Epoch 80/100\n",
            "1875/1875 [==============================] - 8s 4ms/step - loss: 0.1634 - val_loss: 0.1720\n",
            "Epoch 81/100\n",
            "1875/1875 [==============================] - 8s 4ms/step - loss: 0.1634 - val_loss: 0.1722\n",
            "Epoch 82/100\n",
            "1875/1875 [==============================] - 8s 4ms/step - loss: 0.1632 - val_loss: 0.1723\n",
            "Epoch 83/100\n",
            "1875/1875 [==============================] - 8s 4ms/step - loss: 0.1633 - val_loss: 0.1718\n",
            "Epoch 84/100\n",
            "1875/1875 [==============================] - 8s 4ms/step - loss: 0.1632 - val_loss: 0.1728\n",
            "Epoch 85/100\n",
            "1875/1875 [==============================] - 8s 4ms/step - loss: 0.1632 - val_loss: 0.1716\n",
            "Epoch 86/100\n",
            "1875/1875 [==============================] - 8s 4ms/step - loss: 0.1631 - val_loss: 0.1715\n",
            "Epoch 87/100\n",
            "1875/1875 [==============================] - 8s 4ms/step - loss: 0.1630 - val_loss: 0.1720\n",
            "Epoch 88/100\n",
            "1875/1875 [==============================] - 8s 4ms/step - loss: 0.1631 - val_loss: 0.1718\n",
            "Epoch 89/100\n",
            "1875/1875 [==============================] - 8s 4ms/step - loss: 0.1630 - val_loss: 0.1714\n",
            "Epoch 90/100\n",
            "1875/1875 [==============================] - 8s 4ms/step - loss: 0.1629 - val_loss: 0.1726\n",
            "Epoch 91/100\n",
            "1875/1875 [==============================] - 8s 4ms/step - loss: 0.1629 - val_loss: 0.1722\n",
            "Epoch 92/100\n",
            "1875/1875 [==============================] - 8s 4ms/step - loss: 0.1629 - val_loss: 0.1723\n",
            "Epoch 93/100\n",
            "1875/1875 [==============================] - 8s 4ms/step - loss: 0.1628 - val_loss: 0.1717\n",
            "Epoch 94/100\n",
            "1875/1875 [==============================] - 8s 4ms/step - loss: 0.1628 - val_loss: 0.1719\n",
            "Epoch 95/100\n",
            "1875/1875 [==============================] - 8s 4ms/step - loss: 0.1626 - val_loss: 0.1735\n",
            "Epoch 96/100\n",
            "1875/1875 [==============================] - 8s 4ms/step - loss: 0.1627 - val_loss: 0.1722\n",
            "Epoch 97/100\n",
            "1875/1875 [==============================] - 8s 4ms/step - loss: 0.1627 - val_loss: 0.1717\n",
            "Epoch 98/100\n",
            "1875/1875 [==============================] - 8s 4ms/step - loss: 0.1627 - val_loss: 0.1716\n",
            "Epoch 99/100\n",
            "1875/1875 [==============================] - 8s 4ms/step - loss: 0.1627 - val_loss: 0.1716\n",
            "Epoch 100/100\n",
            "1875/1875 [==============================] - 8s 4ms/step - loss: 0.1627 - val_loss: 0.1721\n"
          ],
          "name": "stdout"
        },
        {
          "output_type": "execute_result",
          "data": {
            "text/plain": [
              "<tensorflow.python.keras.callbacks.History at 0x7feec6c55fd0>"
            ]
          },
          "metadata": {
            "tags": []
          },
          "execution_count": 14
        }
      ]
    },
    {
      "cell_type": "code",
      "metadata": {
        "colab": {
          "base_uri": "https://localhost:8080/"
        },
        "id": "3NiTq6wn2vHY",
        "outputId": "e44bba51-e77a-40e5-8869-27b41cb945ed"
      },
      "source": [
        "#Generate output images corresponding to test input images\r\n",
        "\r\n",
        "decodedImages = autoencoder.predict(X_test)\r\n",
        "\r\n",
        "print(decodedImages.shape)"
      ],
      "execution_count": 15,
      "outputs": [
        {
          "output_type": "stream",
          "text": [
            "(10000, 28, 28, 1)\n"
          ],
          "name": "stdout"
        }
      ]
    },
    {
      "cell_type": "code",
      "metadata": {
        "colab": {
          "base_uri": "https://localhost:8080/",
          "height": 248
        },
        "id": "4Re-r7Yg2v4L",
        "outputId": "501a0ffa-f506-4fb4-bf3b-844fe189262a"
      },
      "source": [
        "\r\n",
        "#The following coder plots a figure made of 10 images per row on two rows\r\n",
        "\r\n",
        "n = 10 #number of subfigures per row\r\n",
        "\r\n",
        "plt.figure(figsize=(20,4)) #total figure size in inches\r\n",
        "\r\n",
        "for i in range(n): #for i in the range [0, n]\r\n",
        "  #display original test images\r\n",
        "  ax = plt.subplot(2, n, i+1) #create placeholder for the i-th image (plt works with index starting with 1 not 0)\r\n",
        "  plt.imshow(X_test[i].reshape(28,28), cmap='gray') #show i-th image\r\n",
        "  ax.get_xaxis().set_visible(False) #disable x axis visibility\r\n",
        "  ax.get_yaxis().set_visible(False) #disable y axis visibility\r\n",
        "\r\n",
        "  #display reconstructed test images\r\n",
        "  ax = plt.subplot(2, n, i+1+n) #create placeholder for the i-th image (plt works with index starting with 1 not 0)\r\n",
        "  plt.imshow(decodedImages[i].reshape(28,28), cmap='gray') #show i-th image\r\n",
        "  ax.get_xaxis().set_visible(False) #disable x axis visibility\r\n",
        "  ax.get_yaxis().set_visible(False) #disable y axis visibility\r\n",
        "\r\n",
        "plt.show() #display entire image"
      ],
      "execution_count": 16,
      "outputs": [
        {
          "output_type": "display_data",
          "data": {
            "image/png": "[encoded data removed]",
            "text/plain": [
              "<Figure size 1440x288 with 20 Axes>"
            ]
          },
          "metadata": {
            "tags": [],
            "needs_background": "light"
          }
        }
      ]
    },
    {
      "cell_type": "code",
      "metadata": {
        "colab": {
          "base_uri": "https://localhost:8080/"
        },
        "id": "qXB8JcHz2zef",
        "outputId": "ed169618-cde2-4ea1-980a-103e80e8e7a2"
      },
      "source": [
        "X_test_encoded = encoder.predict(X_test) #create encoded vectors (embeddings) for input images using only the encoder model\r\n",
        "\r\n",
        "print(X_test_encoded.shape)"
      ],
      "execution_count": 17,
      "outputs": [
        {
          "output_type": "stream",
          "text": [
            "(10000, 2)\n"
          ],
          "name": "stdout"
        }
      ]
    },
    {
      "cell_type": "code",
      "metadata": {
        "colab": {
          "base_uri": "https://localhost:8080/",
          "height": 269
        },
        "id": "jus4FmCn23Bn",
        "outputId": "441432a4-2a6e-46f7-f4a0-aea12647f01e"
      },
      "source": [
        "plt.scatter(X_test_encoded[:, 0], X_test_encoded[:, 1], c=Y_test, cmap='brg') #scatter plot of embeddings of test images\r\n",
        "plt.colorbar()\r\n",
        "plt.show()"
      ],
      "execution_count": 18,
      "outputs": [
        {
          "output_type": "display_data",
          "data": {
            "image/png": "[encoded data removed]",
            "text/plain": [
              "<Figure size 432x288 with 2 Axes>"
            ]
          },
          "metadata": {
            "tags": [],
            "needs_background": "light"
          }
        }
      ]
    },
    {
      "cell_type": "code",
      "metadata": {
        "id": "sTMFJ06529fT"
      },
      "source": [
        "#Generate embeddings for training input images\r\n",
        "X_train_encoded = encoder.predict(X_train)"
      ],
      "execution_count": 19,
      "outputs": []
    },
    {
      "cell_type": "code",
      "metadata": {
        "colab": {
          "base_uri": "https://localhost:8080/"
        },
        "id": "IjMgT4xK3AX2",
        "outputId": "308c6078-f272-40cc-855f-fcf851634d53"
      },
      "source": [
        "(lx_max, ly_max)= np.amax(X_train_encoded, axis=0) #max x and y values in the latent space\r\n",
        "(lx_min, ly_min)= np.amin(X_train_encoded, axis=0) #min x and y values in the latent space\r\n",
        "\r\n",
        "print('Max x: ', lx_max)\r\n",
        "print('Min x: ', lx_min)\r\n",
        "print('Max y: ', ly_max)\r\n",
        "print('Min y: ', ly_min)"
      ],
      "execution_count": 20,
      "outputs": [
        {
          "output_type": "stream",
          "text": [
            "Max x:  67.0416\n",
            "Min x:  -52.70135\n",
            "Max y:  40.11759\n",
            "Min y:  -65.48771\n"
          ],
          "name": "stdout"
        }
      ]
    },
    {
      "cell_type": "code",
      "metadata": {
        "colab": {
          "base_uri": "https://localhost:8080/"
        },
        "id": "DkDBL7113CwC",
        "outputId": "4732e7d2-2ac0-4395-b27e-5d1b38c89ed5"
      },
      "source": [
        "sampleX = np.random.uniform(lx_min, lx_max)\r\n",
        "sampleY = np.random.uniform(ly_min, ly_max)\r\n",
        "\r\n",
        "print('Sampled vector: ', sampleX, sampleY)"
      ],
      "execution_count": 21,
      "outputs": [
        {
          "output_type": "stream",
          "text": [
            "Sampled vector:  -41.19235460810066 -51.94234562967719\n"
          ],
          "name": "stdout"
        }
      ]
    },
    {
      "cell_type": "code",
      "metadata": {
        "colab": {
          "base_uri": "https://localhost:8080/"
        },
        "id": "hhE57o8F3FXu",
        "outputId": "77aecc86-b9b4-4703-da9e-70f019b36e33"
      },
      "source": [
        "#Create array as input to the decoder\r\n",
        "sample = np.array([sampleX, sampleY])\r\n",
        "print(sample.shape)\r\n",
        "\r\n",
        "sample = np.reshape (sample, (1,)+sample.shape)\r\n",
        "print(sample.shape)\r\n",
        "\r\n",
        "#Decode sample vector\r\n",
        "\r\n",
        "decodedSample = decoder.predict(sample)\r\n",
        "print(decodedSample.shape)"
      ],
      "execution_count": 22,
      "outputs": [
        {
          "output_type": "stream",
          "text": [
            "(2,)\n",
            "(1, 2)\n",
            "(1, 28, 28, 1)\n"
          ],
          "name": "stdout"
        }
      ]
    },
    {
      "cell_type": "code",
      "metadata": {
        "colab": {
          "base_uri": "https://localhost:8080/",
          "height": 282
        },
        "id": "2ywnX4Gj3Io3",
        "outputId": "a80e88e0-9add-4aec-9cf0-5ce338f27b26"
      },
      "source": [
        "plt.imshow(decodedSample.reshape(28,28), cmap='gray')"
      ],
      "execution_count": 23,
      "outputs": [
        {
          "output_type": "execute_result",
          "data": {
            "text/plain": [
              "<matplotlib.image.AxesImage at 0x7fee626c6b70>"
            ]
          },
          "metadata": {
            "tags": []
          },
          "execution_count": 23
        },
        {
          "output_type": "display_data",
          "data": {
            "image/png": "[encoded data removed]",
            "text/plain": [
              "<Figure size 432x288 with 1 Axes>"
            ]
          },
          "metadata": {
            "tags": [],
            "needs_background": "light"
          }
        }
      ]
    }
  ]
}