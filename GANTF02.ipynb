{
  "nbformat": 4,
  "nbformat_minor": 0,
  "metadata": {
    "colab": {
      "name": "GANTF02.ipynb",
      "provenance": []
    },
    "kernelspec": {
      "name": "python3",
      "display_name": "Python 3"
    },
    "accelerator": "GPU"
  },
  "cells": [
    {
      "cell_type": "code",
      "metadata": {
        "id": "GJdAWScarOs4"
      },
      "source": [
        "!pip install -q tensorflow-gpu==2.3.0"
      ],
      "execution_count": 4,
      "outputs": []
    },
    {
      "cell_type": "code",
      "metadata": {
        "colab": {
          "base_uri": "https://localhost:8080/"
        },
        "id": "Eit2h65mu2z8",
        "outputId": "84af48e9-420e-4b99-9511-a21af0e2553d"
      },
      "source": [
        "import tensorflow as tf\r\n",
        "print(tf.__version__)"
      ],
      "execution_count": 5,
      "outputs": [
        {
          "output_type": "stream",
          "text": [
            "2.3.0\n"
          ],
          "name": "stdout"
        }
      ]
    },
    {
      "cell_type": "code",
      "metadata": {
        "id": "YUKUdP31vxMd"
      },
      "source": [
        "from tensorflow.keras.layers import Input, Dense, LeakyReLU, Dropout, BatchNormalization\r\n",
        "from tensorflow.keras.models import Model\r\n",
        "from tensorflow.keras.optimizers import SGD, Adam\r\n",
        "\r\n",
        "import numpy as np\r\n",
        "import pandas as pd\r\n",
        "import matplotlib.pyplot as plt\r\n",
        "import sys, os"
      ],
      "execution_count": 6,
      "outputs": []
    },
    {
      "cell_type": "code",
      "metadata": {
        "colab": {
          "base_uri": "https://localhost:8080/"
        },
        "id": "-akOeBQLv3JY",
        "outputId": "15744306-5e9d-45b0-a9cd-a6238b276666"
      },
      "source": [
        "mnist = tf.keras.datasets.mnist\r\n",
        "\r\n",
        "(x_train, y_train), (x_test, y_test) = mnist.load_data()\r\n",
        "\r\n",
        "x_train, x_test = x_train / 255 * 2 - 1, x_test / 255 * 2 - 1\r\n",
        "print(\"x_train.shape:\", x_train.shape)"
      ],
      "execution_count": 7,
      "outputs": [
        {
          "output_type": "stream",
          "text": [
            "x_train.shape: (60000, 28, 28)\n"
          ],
          "name": "stdout"
        }
      ]
    },
    {
      "cell_type": "code",
      "metadata": {
        "id": "e75KPj3Bv62O"
      },
      "source": [
        "N, H, W = x_train.shape\r\n",
        "\r\n",
        "D = H * W\r\n",
        "\r\n",
        "x_train = x_train.reshape(-1, D)\r\n",
        "x_test = x_test.reshape(-1, D)"
      ],
      "execution_count": 8,
      "outputs": []
    },
    {
      "cell_type": "code",
      "metadata": {
        "id": "ZFyE--mlwSTD"
      },
      "source": [
        "latent_dim = 100\r\n"
      ],
      "execution_count": 9,
      "outputs": []
    },
    {
      "cell_type": "code",
      "metadata": {
        "id": "rhFVr0riwVSH"
      },
      "source": [
        "def build_generator(latent_dim):\r\n",
        "  i = Input(shape=(latent_dim,))\r\n",
        "  x = Dense(256, activation=LeakyReLU(alpha=0.2))(i)\r\n",
        "  x = BatchNormalization(momentum=0.8)(x)\r\n",
        "  x = Dense(512, activation=LeakyReLU(alpha=0.2))(x)\r\n",
        "  x = BatchNormalization(momentum=0.8)(x)\r\n",
        "  x = Dense(1024, activation=LeakyReLU(alpha=0.2))(x)\r\n",
        "  x = BatchNormalization(momentum=0.8)(x)\r\n",
        "  x = Dense(D, activation='tanh')(x)\r\n",
        "\r\n",
        "  model = Model(i, x)\r\n",
        "  return model"
      ],
      "execution_count": 10,
      "outputs": []
    },
    {
      "cell_type": "code",
      "metadata": {
        "id": "JAy3HE1Uwaut"
      },
      "source": [
        "def build_discriminator(img_size):\r\n",
        "  i = Input(shape=(img_size,))\r\n",
        "  x = Dense(512, activation=LeakyReLU(alpha=0.2))(i)\r\n",
        "  x = Dense(256, activation=LeakyReLU(alpha=0.2))(x)\r\n",
        "  x = Dense(1, activation='sigmoid')(x)\r\n",
        "\r\n",
        "  model = Model(i, x)\r\n",
        "  return model"
      ],
      "execution_count": 11,
      "outputs": []
    },
    {
      "cell_type": "code",
      "metadata": {
        "id": "1STfZYu4wj-q"
      },
      "source": [
        "#Compilation and preparation of the two models for training\r\n",
        "\r\n",
        "discriminator = build_discriminator(D)\r\n",
        "discriminator.compile(\r\n",
        "    loss='binary_crossentropy',\r\n",
        "    optimizer=Adam(0.0002, 0.5),\r\n",
        "    metrics=['accuracy']\r\n",
        ")\r\n",
        "\r\n",
        "generator = build_generator(latent_dim)\r\n",
        "\r\n",
        "#Input representing the noise sample from latent space\r\n",
        "z = Input(shape=(latent_dim,))\r\n",
        "\r\n",
        "#Introduce noise through the generator to get an image\r\n",
        "img = generator(z)\r\n",
        "\r\n",
        "#Only the generator is trained\r\n",
        "discriminator.trainable = False\r\n",
        "\r\n",
        "#The actual output is false, but we label it as real!\r\n",
        "fake_pred = discriminator(img)\r\n",
        "\r\n",
        "#We create the combined model\r\n",
        "combined_model = Model(z, fake_pred)\r\n",
        "\r\n",
        "#We compile the combined model\r\n",
        "combined_model.compile(loss='binary_crossentropy', optimizer=Adam(0.0002, 0.5))"
      ],
      "execution_count": 12,
      "outputs": []
    },
    {
      "cell_type": "code",
      "metadata": {
        "id": "m6kuVLfoxQEq"
      },
      "source": [
        "#GAN training\r\n",
        "\r\n",
        "batch_size = 32\r\n",
        "epochs = 30000\r\n",
        "sample_period = 200 #Each \"sample period\" times information will be saved\r\n",
        "\r\n",
        "#The labels that will be used when they are called train_on_batch are created\r\n",
        "\r\n",
        "ones = np.ones(batch_size)\r\n",
        "zeros = np.zeros(batch_size)\r\n",
        "\r\n",
        "#Losses are stored\r\n",
        "\r\n",
        "d_losses = []\r\n",
        "g_losses = []\r\n",
        "\r\n",
        "#The generated images are stored\r\n",
        "if not os.path.exists('gan_images'):\r\n",
        "  os.makedirs('gan_images')\r\n",
        "\r\n",
        "#A function to generate a mesh of rando values ​​from the generator and save them as a file\r\n",
        "\r\n",
        "def sample_images(epoch):\r\n",
        "  rows, cols = 5, 5\r\n",
        "  noise = np.random.randn(rows * cols, latent_dim)\r\n",
        "  imgs = generator.predict(noise)\r\n",
        "\r\n",
        "  #Image rescaling 0-1\r\n",
        "  imgs = 0.5 * imgs + 0.5\r\n",
        "\r\n",
        "  fig, axs = plt.subplots(rows, cols)\r\n",
        "  idx = 0\r\n",
        "  for i in range(rows):\r\n",
        "    for j in range(cols):\r\n",
        "      axs[i,j].imshow(imgs[idx].reshape(H, W), cmap='gray')\r\n",
        "      axs[i,j].axis('off')\r\n",
        "      idx += 1\r\n",
        "\r\n",
        "  fig.savefig(\"gan_images/%d.png\" % epoch)\r\n",
        "  plt.close()"
      ],
      "execution_count": 13,
      "outputs": []
    },
    {
      "cell_type": "code",
      "metadata": {
        "colab": {
          "base_uri": "https://localhost:8080/"
        },
        "id": "N4-ShCZSx7Ww",
        "outputId": "f7b231a0-ba44-4460-f9a2-6ebf80490d18"
      },
      "source": [
        "#Main training cycle\r\n",
        "\r\n",
        "for epoch in range(epochs):\r\n",
        "\r\n",
        "  #Discriminator training\r\n",
        "\r\n",
        "  #Select a random batch of images\r\n",
        "  idx = np.random.randint(0, x_train.shape[0], batch_size)\r\n",
        "  real_imgs = x_train[idx]\r\n",
        "\r\n",
        "  #Generate the fake images\r\n",
        "  noise = np.random.randn(batch_size, latent_dim)\r\n",
        "  fake_imgs = generator.predict(noise)\r\n",
        "\r\n",
        "  #Train the discriminator\r\n",
        "  #loss and precision are returned\r\n",
        "  d_loss_real, d_acc_real = discriminator.train_on_batch(real_imgs, ones)\r\n",
        "  d_loss_fake, d_acc_fake = discriminator.train_on_batch(fake_imgs, zeros)\r\n",
        "  d_loss = 0.5 * (d_loss_real + d_loss_fake)\r\n",
        "  d_acc = 0.5 * (d_acc_real + d_acc_fake)\r\n",
        "\r\n",
        "  #Generator training\r\n",
        "\r\n",
        "  noise = np.random.rand(batch_size, latent_dim)\r\n",
        "  g_loss = combined_model.train_on_batch(noise, ones)\r\n",
        "\r\n",
        "  #Save the losses\r\n",
        "  d_losses.append(d_loss)\r\n",
        "  g_losses.append(g_losses)\r\n",
        "\r\n",
        "  if epoch % 100 == 0:\r\n",
        "\r\n",
        "    print(f\"epoch: {epoch + 1 }/´{epochs}, d_loss: {d_loss:.2f}, d_acc: {d_acc:.2f}, g_loss: {g_loss:.2f}\")\r\n",
        "\r\n",
        "    if epoch % sample_period == 0:\r\n",
        "      sample_images(epoch)"
      ],
      "execution_count": 14,
      "outputs": [
        {
          "output_type": "stream",
          "text": [
            "epoch: 1/´30000, d_loss: 0.64, d_acc: 0.55, g_loss: 0.60\n",
            "epoch: 101/´30000, d_loss: 0.00, d_acc: 1.00, g_loss: 0.13\n",
            "epoch: 201/´30000, d_loss: 0.00, d_acc: 1.00, g_loss: 0.39\n",
            "epoch: 301/´30000, d_loss: 0.00, d_acc: 1.00, g_loss: 0.49\n",
            "epoch: 401/´30000, d_loss: 0.03, d_acc: 1.00, g_loss: 0.95\n",
            "epoch: 501/´30000, d_loss: 0.09, d_acc: 0.97, g_loss: 1.44\n",
            "epoch: 601/´30000, d_loss: 0.08, d_acc: 0.98, g_loss: 0.80\n",
            "epoch: 701/´30000, d_loss: 0.20, d_acc: 0.91, g_loss: 1.18\n",
            "epoch: 801/´30000, d_loss: 0.15, d_acc: 0.98, g_loss: 0.68\n",
            "epoch: 901/´30000, d_loss: 0.12, d_acc: 0.98, g_loss: 0.20\n",
            "epoch: 1001/´30000, d_loss: 0.18, d_acc: 0.92, g_loss: 0.22\n",
            "epoch: 1101/´30000, d_loss: 0.58, d_acc: 0.66, g_loss: 0.32\n",
            "epoch: 1201/´30000, d_loss: 0.24, d_acc: 0.89, g_loss: 0.05\n",
            "epoch: 1301/´30000, d_loss: 0.04, d_acc: 1.00, g_loss: 0.07\n",
            "epoch: 1401/´30000, d_loss: 0.04, d_acc: 1.00, g_loss: 0.01\n",
            "epoch: 1501/´30000, d_loss: 0.11, d_acc: 1.00, g_loss: 0.03\n",
            "epoch: 1601/´30000, d_loss: 1.84, d_acc: 0.36, g_loss: 0.15\n",
            "epoch: 1701/´30000, d_loss: 0.11, d_acc: 0.95, g_loss: 0.00\n",
            "epoch: 1801/´30000, d_loss: 0.08, d_acc: 0.98, g_loss: 0.04\n",
            "epoch: 1901/´30000, d_loss: 0.18, d_acc: 0.95, g_loss: 0.01\n",
            "epoch: 2001/´30000, d_loss: 0.05, d_acc: 1.00, g_loss: 0.01\n",
            "epoch: 2101/´30000, d_loss: 0.03, d_acc: 1.00, g_loss: 0.15\n",
            "epoch: 2201/´30000, d_loss: 0.06, d_acc: 1.00, g_loss: 0.04\n",
            "epoch: 2301/´30000, d_loss: 0.14, d_acc: 0.95, g_loss: 0.10\n",
            "epoch: 2401/´30000, d_loss: 0.02, d_acc: 1.00, g_loss: 0.00\n",
            "epoch: 2501/´30000, d_loss: 0.16, d_acc: 0.97, g_loss: 0.02\n",
            "epoch: 2601/´30000, d_loss: 0.36, d_acc: 0.83, g_loss: 0.01\n",
            "epoch: 2701/´30000, d_loss: 0.04, d_acc: 1.00, g_loss: 0.01\n",
            "epoch: 2801/´30000, d_loss: 0.06, d_acc: 0.98, g_loss: 0.00\n",
            "epoch: 2901/´30000, d_loss: 0.04, d_acc: 1.00, g_loss: 0.04\n",
            "epoch: 3001/´30000, d_loss: 0.07, d_acc: 1.00, g_loss: 0.03\n",
            "epoch: 3101/´30000, d_loss: 0.18, d_acc: 0.94, g_loss: 0.03\n",
            "epoch: 3201/´30000, d_loss: 0.03, d_acc: 1.00, g_loss: 0.00\n",
            "epoch: 3301/´30000, d_loss: 0.06, d_acc: 0.98, g_loss: 0.00\n",
            "epoch: 3401/´30000, d_loss: 0.82, d_acc: 0.59, g_loss: 0.58\n",
            "epoch: 3501/´30000, d_loss: 0.25, d_acc: 0.92, g_loss: 0.01\n",
            "epoch: 3601/´30000, d_loss: 0.08, d_acc: 0.98, g_loss: 0.10\n",
            "epoch: 3701/´30000, d_loss: 0.11, d_acc: 0.97, g_loss: 0.12\n",
            "epoch: 3801/´30000, d_loss: 0.04, d_acc: 1.00, g_loss: 0.00\n",
            "epoch: 3901/´30000, d_loss: 1.15, d_acc: 0.36, g_loss: 0.86\n",
            "epoch: 4001/´30000, d_loss: 0.15, d_acc: 0.95, g_loss: 0.07\n",
            "epoch: 4101/´30000, d_loss: 0.15, d_acc: 0.98, g_loss: 0.04\n",
            "epoch: 4201/´30000, d_loss: 0.25, d_acc: 0.94, g_loss: 0.01\n",
            "epoch: 4301/´30000, d_loss: 0.16, d_acc: 0.95, g_loss: 0.01\n",
            "epoch: 4401/´30000, d_loss: 0.16, d_acc: 0.92, g_loss: 0.00\n",
            "epoch: 4501/´30000, d_loss: 0.08, d_acc: 0.97, g_loss: 0.01\n",
            "epoch: 4601/´30000, d_loss: 0.10, d_acc: 0.97, g_loss: 0.00\n",
            "epoch: 4701/´30000, d_loss: 0.73, d_acc: 0.59, g_loss: 0.77\n",
            "epoch: 4801/´30000, d_loss: 0.14, d_acc: 0.94, g_loss: 0.19\n",
            "epoch: 4901/´30000, d_loss: 0.50, d_acc: 0.80, g_loss: 0.06\n",
            "epoch: 5001/´30000, d_loss: 0.08, d_acc: 0.97, g_loss: 0.01\n",
            "epoch: 5101/´30000, d_loss: 0.42, d_acc: 0.78, g_loss: 0.06\n",
            "epoch: 5201/´30000, d_loss: 0.21, d_acc: 0.94, g_loss: 0.01\n",
            "epoch: 5301/´30000, d_loss: 0.86, d_acc: 0.53, g_loss: 0.18\n",
            "epoch: 5401/´30000, d_loss: 0.22, d_acc: 0.94, g_loss: 0.08\n",
            "epoch: 5501/´30000, d_loss: 0.20, d_acc: 0.92, g_loss: 0.03\n",
            "epoch: 5601/´30000, d_loss: 0.68, d_acc: 0.70, g_loss: 0.02\n",
            "epoch: 5701/´30000, d_loss: 0.44, d_acc: 0.83, g_loss: 0.19\n",
            "epoch: 5801/´30000, d_loss: 0.12, d_acc: 0.97, g_loss: 0.14\n",
            "epoch: 5901/´30000, d_loss: 0.21, d_acc: 0.91, g_loss: 0.07\n",
            "epoch: 6001/´30000, d_loss: 0.17, d_acc: 0.92, g_loss: 0.05\n",
            "epoch: 6101/´30000, d_loss: 0.44, d_acc: 0.78, g_loss: 0.05\n",
            "epoch: 6201/´30000, d_loss: 0.21, d_acc: 0.97, g_loss: 0.23\n",
            "epoch: 6301/´30000, d_loss: 0.35, d_acc: 0.88, g_loss: 0.08\n",
            "epoch: 6401/´30000, d_loss: 0.54, d_acc: 0.73, g_loss: 0.14\n",
            "epoch: 6501/´30000, d_loss: 0.50, d_acc: 0.75, g_loss: 0.37\n",
            "epoch: 6601/´30000, d_loss: 0.29, d_acc: 0.92, g_loss: 0.28\n",
            "epoch: 6701/´30000, d_loss: 0.56, d_acc: 0.72, g_loss: 0.28\n",
            "epoch: 6801/´30000, d_loss: 0.30, d_acc: 0.89, g_loss: 0.35\n",
            "epoch: 6901/´30000, d_loss: 0.39, d_acc: 0.81, g_loss: 0.35\n",
            "epoch: 7001/´30000, d_loss: 0.25, d_acc: 0.94, g_loss: 0.32\n",
            "epoch: 7101/´30000, d_loss: 0.62, d_acc: 0.69, g_loss: 0.47\n",
            "epoch: 7201/´30000, d_loss: 0.61, d_acc: 0.77, g_loss: 0.55\n",
            "epoch: 7301/´30000, d_loss: 0.37, d_acc: 0.80, g_loss: 0.28\n",
            "epoch: 7401/´30000, d_loss: 0.37, d_acc: 0.86, g_loss: 0.23\n",
            "epoch: 7501/´30000, d_loss: 0.20, d_acc: 0.95, g_loss: 0.32\n",
            "epoch: 7601/´30000, d_loss: 0.23, d_acc: 0.95, g_loss: 0.48\n",
            "epoch: 7701/´30000, d_loss: 0.21, d_acc: 0.92, g_loss: 0.24\n",
            "epoch: 7801/´30000, d_loss: 0.71, d_acc: 0.70, g_loss: 0.26\n",
            "epoch: 7901/´30000, d_loss: 0.20, d_acc: 0.91, g_loss: 0.25\n",
            "epoch: 8001/´30000, d_loss: 0.69, d_acc: 0.64, g_loss: 0.29\n",
            "epoch: 8101/´30000, d_loss: 0.08, d_acc: 0.98, g_loss: 0.39\n",
            "epoch: 8201/´30000, d_loss: 0.03, d_acc: 1.00, g_loss: 0.49\n",
            "epoch: 8301/´30000, d_loss: 0.14, d_acc: 0.95, g_loss: 0.36\n",
            "epoch: 8401/´30000, d_loss: 0.10, d_acc: 0.97, g_loss: 0.97\n",
            "epoch: 8501/´30000, d_loss: 0.43, d_acc: 0.73, g_loss: 0.48\n",
            "epoch: 8601/´30000, d_loss: 0.23, d_acc: 0.91, g_loss: 0.39\n",
            "epoch: 8701/´30000, d_loss: 0.19, d_acc: 0.95, g_loss: 0.40\n",
            "epoch: 8801/´30000, d_loss: 0.27, d_acc: 0.92, g_loss: 0.21\n",
            "epoch: 8901/´30000, d_loss: 0.11, d_acc: 0.97, g_loss: 0.69\n",
            "epoch: 9001/´30000, d_loss: 0.21, d_acc: 0.88, g_loss: 0.47\n",
            "epoch: 9101/´30000, d_loss: 0.03, d_acc: 1.00, g_loss: 0.56\n",
            "epoch: 9201/´30000, d_loss: 0.11, d_acc: 0.98, g_loss: 0.39\n",
            "epoch: 9301/´30000, d_loss: 0.06, d_acc: 0.97, g_loss: 0.34\n",
            "epoch: 9401/´30000, d_loss: 0.12, d_acc: 0.97, g_loss: 0.34\n",
            "epoch: 9501/´30000, d_loss: 0.13, d_acc: 0.98, g_loss: 0.35\n",
            "epoch: 9601/´30000, d_loss: 0.32, d_acc: 0.88, g_loss: 0.60\n",
            "epoch: 9701/´30000, d_loss: 0.14, d_acc: 0.97, g_loss: 0.22\n",
            "epoch: 9801/´30000, d_loss: 0.10, d_acc: 0.98, g_loss: 0.59\n",
            "epoch: 9901/´30000, d_loss: 0.13, d_acc: 0.94, g_loss: 0.54\n",
            "epoch: 10001/´30000, d_loss: 0.05, d_acc: 0.98, g_loss: 0.23\n",
            "epoch: 10101/´30000, d_loss: 0.02, d_acc: 1.00, g_loss: 0.50\n",
            "epoch: 10201/´30000, d_loss: 0.02, d_acc: 1.00, g_loss: 0.51\n",
            "epoch: 10301/´30000, d_loss: 0.03, d_acc: 0.98, g_loss: 0.45\n",
            "epoch: 10401/´30000, d_loss: 0.38, d_acc: 0.86, g_loss: 0.42\n",
            "epoch: 10501/´30000, d_loss: 0.10, d_acc: 0.95, g_loss: 0.47\n",
            "epoch: 10601/´30000, d_loss: 0.05, d_acc: 0.98, g_loss: 0.50\n",
            "epoch: 10701/´30000, d_loss: 0.01, d_acc: 1.00, g_loss: 0.71\n",
            "epoch: 10801/´30000, d_loss: 0.02, d_acc: 0.98, g_loss: 0.28\n",
            "epoch: 10901/´30000, d_loss: 0.04, d_acc: 0.98, g_loss: 0.88\n",
            "epoch: 11001/´30000, d_loss: 0.02, d_acc: 1.00, g_loss: 0.62\n",
            "epoch: 11101/´30000, d_loss: 0.03, d_acc: 0.98, g_loss: 0.23\n",
            "epoch: 11201/´30000, d_loss: 0.01, d_acc: 1.00, g_loss: 0.08\n",
            "epoch: 11301/´30000, d_loss: 0.11, d_acc: 0.97, g_loss: 0.22\n",
            "epoch: 11401/´30000, d_loss: 0.05, d_acc: 0.98, g_loss: 0.30\n",
            "epoch: 11501/´30000, d_loss: 0.03, d_acc: 0.98, g_loss: 0.27\n",
            "epoch: 11601/´30000, d_loss: 0.02, d_acc: 1.00, g_loss: 0.17\n",
            "epoch: 11701/´30000, d_loss: 0.00, d_acc: 1.00, g_loss: 0.15\n",
            "epoch: 11801/´30000, d_loss: 0.03, d_acc: 0.98, g_loss: 0.03\n",
            "epoch: 11901/´30000, d_loss: 0.00, d_acc: 1.00, g_loss: 1.95\n",
            "epoch: 12001/´30000, d_loss: 0.02, d_acc: 1.00, g_loss: 0.61\n",
            "epoch: 12101/´30000, d_loss: 0.10, d_acc: 0.95, g_loss: 0.89\n",
            "epoch: 12201/´30000, d_loss: 0.06, d_acc: 0.97, g_loss: 0.21\n",
            "epoch: 12301/´30000, d_loss: 0.00, d_acc: 1.00, g_loss: 0.21\n",
            "epoch: 12401/´30000, d_loss: 0.02, d_acc: 1.00, g_loss: 0.02\n",
            "epoch: 12501/´30000, d_loss: 0.01, d_acc: 1.00, g_loss: 0.06\n",
            "epoch: 12601/´30000, d_loss: 0.00, d_acc: 1.00, g_loss: 0.04\n",
            "epoch: 12701/´30000, d_loss: 0.10, d_acc: 0.95, g_loss: 0.02\n",
            "epoch: 12801/´30000, d_loss: 0.12, d_acc: 0.98, g_loss: 0.04\n",
            "epoch: 12901/´30000, d_loss: 0.04, d_acc: 0.98, g_loss: 0.08\n",
            "epoch: 13001/´30000, d_loss: 0.01, d_acc: 1.00, g_loss: 0.38\n",
            "epoch: 13101/´30000, d_loss: 0.00, d_acc: 1.00, g_loss: 0.43\n",
            "epoch: 13201/´30000, d_loss: 4.25, d_acc: 0.50, g_loss: 2.64\n",
            "epoch: 13301/´30000, d_loss: 0.00, d_acc: 1.00, g_loss: 0.12\n",
            "epoch: 13401/´30000, d_loss: 0.01, d_acc: 1.00, g_loss: 0.06\n",
            "epoch: 13501/´30000, d_loss: 0.01, d_acc: 1.00, g_loss: 0.03\n",
            "epoch: 13601/´30000, d_loss: 0.00, d_acc: 1.00, g_loss: 0.16\n",
            "epoch: 13701/´30000, d_loss: 0.03, d_acc: 1.00, g_loss: 0.12\n",
            "epoch: 13801/´30000, d_loss: 0.04, d_acc: 0.98, g_loss: 0.55\n",
            "epoch: 13901/´30000, d_loss: 0.04, d_acc: 0.98, g_loss: 0.19\n",
            "epoch: 14001/´30000, d_loss: 0.02, d_acc: 0.98, g_loss: 0.39\n",
            "epoch: 14101/´30000, d_loss: 0.01, d_acc: 1.00, g_loss: 0.09\n",
            "epoch: 14201/´30000, d_loss: 0.01, d_acc: 1.00, g_loss: 0.01\n",
            "epoch: 14301/´30000, d_loss: 0.01, d_acc: 1.00, g_loss: 0.79\n",
            "epoch: 14401/´30000, d_loss: 0.07, d_acc: 0.97, g_loss: 0.36\n",
            "epoch: 14501/´30000, d_loss: 0.01, d_acc: 1.00, g_loss: 0.41\n",
            "epoch: 14601/´30000, d_loss: 0.28, d_acc: 0.91, g_loss: 0.72\n",
            "epoch: 14701/´30000, d_loss: 0.00, d_acc: 1.00, g_loss: 0.16\n",
            "epoch: 14801/´30000, d_loss: 0.02, d_acc: 0.98, g_loss: 0.17\n",
            "epoch: 14901/´30000, d_loss: 0.01, d_acc: 1.00, g_loss: 0.07\n",
            "epoch: 15001/´30000, d_loss: 0.14, d_acc: 0.92, g_loss: 0.05\n",
            "epoch: 15101/´30000, d_loss: 0.01, d_acc: 1.00, g_loss: 0.23\n",
            "epoch: 15201/´30000, d_loss: 0.01, d_acc: 1.00, g_loss: 0.70\n",
            "epoch: 15301/´30000, d_loss: 0.06, d_acc: 0.97, g_loss: 0.22\n",
            "epoch: 15401/´30000, d_loss: 0.00, d_acc: 1.00, g_loss: 0.10\n",
            "epoch: 15501/´30000, d_loss: 0.01, d_acc: 1.00, g_loss: 0.14\n",
            "epoch: 15601/´30000, d_loss: 0.02, d_acc: 1.00, g_loss: 0.07\n",
            "epoch: 15701/´30000, d_loss: 0.02, d_acc: 0.98, g_loss: 0.25\n",
            "epoch: 15801/´30000, d_loss: 0.05, d_acc: 1.00, g_loss: 0.12\n",
            "epoch: 15901/´30000, d_loss: 0.03, d_acc: 0.98, g_loss: 0.06\n",
            "epoch: 16001/´30000, d_loss: 0.09, d_acc: 0.94, g_loss: 0.13\n",
            "epoch: 16101/´30000, d_loss: 0.01, d_acc: 1.00, g_loss: 0.11\n",
            "epoch: 16201/´30000, d_loss: 0.11, d_acc: 0.95, g_loss: 0.06\n",
            "epoch: 16301/´30000, d_loss: 0.00, d_acc: 1.00, g_loss: 0.02\n",
            "epoch: 16401/´30000, d_loss: 0.01, d_acc: 1.00, g_loss: 0.01\n",
            "epoch: 16501/´30000, d_loss: 0.03, d_acc: 0.98, g_loss: 0.21\n",
            "epoch: 16601/´30000, d_loss: 0.02, d_acc: 1.00, g_loss: 0.02\n",
            "epoch: 16701/´30000, d_loss: 0.03, d_acc: 1.00, g_loss: 0.26\n",
            "epoch: 16801/´30000, d_loss: 0.01, d_acc: 1.00, g_loss: 0.08\n",
            "epoch: 16901/´30000, d_loss: 0.02, d_acc: 0.98, g_loss: 0.52\n",
            "epoch: 17001/´30000, d_loss: 0.00, d_acc: 1.00, g_loss: 0.08\n",
            "epoch: 17101/´30000, d_loss: 0.01, d_acc: 1.00, g_loss: 3.32\n",
            "epoch: 17201/´30000, d_loss: 0.04, d_acc: 0.98, g_loss: 0.41\n",
            "epoch: 17301/´30000, d_loss: 0.01, d_acc: 1.00, g_loss: 0.29\n",
            "epoch: 17401/´30000, d_loss: 0.05, d_acc: 0.98, g_loss: 0.53\n",
            "epoch: 17501/´30000, d_loss: 0.00, d_acc: 1.00, g_loss: 0.05\n",
            "epoch: 17601/´30000, d_loss: 0.00, d_acc: 1.00, g_loss: 0.16\n",
            "epoch: 17701/´30000, d_loss: 0.04, d_acc: 0.98, g_loss: 0.26\n",
            "epoch: 17801/´30000, d_loss: 0.03, d_acc: 0.98, g_loss: 0.03\n",
            "epoch: 17901/´30000, d_loss: 0.00, d_acc: 1.00, g_loss: 0.06\n",
            "epoch: 18001/´30000, d_loss: 0.00, d_acc: 1.00, g_loss: 0.00\n",
            "epoch: 18101/´30000, d_loss: 0.04, d_acc: 0.98, g_loss: 0.77\n",
            "epoch: 18201/´30000, d_loss: 0.00, d_acc: 1.00, g_loss: 0.07\n",
            "epoch: 18301/´30000, d_loss: 0.01, d_acc: 1.00, g_loss: 0.14\n",
            "epoch: 18401/´30000, d_loss: 0.00, d_acc: 1.00, g_loss: 0.05\n",
            "epoch: 18501/´30000, d_loss: 0.05, d_acc: 0.98, g_loss: 0.26\n",
            "epoch: 18601/´30000, d_loss: 0.00, d_acc: 1.00, g_loss: 0.18\n",
            "epoch: 18701/´30000, d_loss: 0.00, d_acc: 1.00, g_loss: 0.01\n",
            "epoch: 18801/´30000, d_loss: 0.00, d_acc: 1.00, g_loss: 0.18\n",
            "epoch: 18901/´30000, d_loss: 0.01, d_acc: 1.00, g_loss: 0.02\n",
            "epoch: 19001/´30000, d_loss: 0.03, d_acc: 0.98, g_loss: 0.04\n",
            "epoch: 19101/´30000, d_loss: 0.01, d_acc: 1.00, g_loss: 0.06\n",
            "epoch: 19201/´30000, d_loss: 0.00, d_acc: 1.00, g_loss: 0.02\n",
            "epoch: 19301/´30000, d_loss: 0.00, d_acc: 1.00, g_loss: 0.06\n",
            "epoch: 19401/´30000, d_loss: 0.01, d_acc: 1.00, g_loss: 0.06\n",
            "epoch: 19501/´30000, d_loss: 0.00, d_acc: 1.00, g_loss: 0.73\n",
            "epoch: 19601/´30000, d_loss: 0.09, d_acc: 0.95, g_loss: 0.00\n",
            "epoch: 19701/´30000, d_loss: 0.01, d_acc: 1.00, g_loss: 0.06\n",
            "epoch: 19801/´30000, d_loss: 0.12, d_acc: 0.95, g_loss: 0.01\n",
            "epoch: 19901/´30000, d_loss: 0.01, d_acc: 1.00, g_loss: 0.09\n",
            "epoch: 20001/´30000, d_loss: 0.00, d_acc: 1.00, g_loss: 0.03\n",
            "epoch: 20101/´30000, d_loss: 0.01, d_acc: 1.00, g_loss: 0.21\n",
            "epoch: 20201/´30000, d_loss: 0.00, d_acc: 1.00, g_loss: 0.33\n",
            "epoch: 20301/´30000, d_loss: 0.01, d_acc: 1.00, g_loss: 0.03\n",
            "epoch: 20401/´30000, d_loss: 0.00, d_acc: 1.00, g_loss: 0.02\n",
            "epoch: 20501/´30000, d_loss: 0.00, d_acc: 1.00, g_loss: 0.01\n",
            "epoch: 20601/´30000, d_loss: 0.01, d_acc: 1.00, g_loss: 0.01\n",
            "epoch: 20701/´30000, d_loss: 0.04, d_acc: 0.98, g_loss: 0.02\n",
            "epoch: 20801/´30000, d_loss: 0.00, d_acc: 1.00, g_loss: 0.24\n",
            "epoch: 20901/´30000, d_loss: 0.01, d_acc: 1.00, g_loss: 0.00\n",
            "epoch: 21001/´30000, d_loss: 0.02, d_acc: 1.00, g_loss: 0.00\n",
            "epoch: 21101/´30000, d_loss: 0.03, d_acc: 0.98, g_loss: 0.02\n",
            "epoch: 21201/´30000, d_loss: 0.10, d_acc: 0.98, g_loss: 0.94\n",
            "epoch: 21301/´30000, d_loss: 0.00, d_acc: 1.00, g_loss: 0.06\n",
            "epoch: 21401/´30000, d_loss: 0.00, d_acc: 1.00, g_loss: 0.00\n",
            "epoch: 21501/´30000, d_loss: 0.00, d_acc: 1.00, g_loss: 0.31\n",
            "epoch: 21601/´30000, d_loss: 0.04, d_acc: 0.98, g_loss: 1.51\n",
            "epoch: 21701/´30000, d_loss: 0.00, d_acc: 1.00, g_loss: 0.56\n",
            "epoch: 21801/´30000, d_loss: 0.03, d_acc: 0.98, g_loss: 0.00\n",
            "epoch: 21901/´30000, d_loss: 0.00, d_acc: 1.00, g_loss: 0.00\n",
            "epoch: 22001/´30000, d_loss: 0.01, d_acc: 0.98, g_loss: 0.03\n",
            "epoch: 22101/´30000, d_loss: 0.00, d_acc: 1.00, g_loss: 0.00\n",
            "epoch: 22201/´30000, d_loss: 0.00, d_acc: 1.00, g_loss: 0.00\n",
            "epoch: 22301/´30000, d_loss: 0.10, d_acc: 0.98, g_loss: 1.26\n",
            "epoch: 22401/´30000, d_loss: 0.00, d_acc: 1.00, g_loss: 0.01\n",
            "epoch: 22501/´30000, d_loss: 0.00, d_acc: 1.00, g_loss: 0.07\n",
            "epoch: 22601/´30000, d_loss: 0.00, d_acc: 1.00, g_loss: 0.00\n",
            "epoch: 22701/´30000, d_loss: 0.01, d_acc: 1.00, g_loss: 0.02\n",
            "epoch: 22801/´30000, d_loss: 0.03, d_acc: 0.98, g_loss: 0.12\n",
            "epoch: 22901/´30000, d_loss: 0.00, d_acc: 1.00, g_loss: 0.04\n",
            "epoch: 23001/´30000, d_loss: 0.01, d_acc: 0.98, g_loss: 0.24\n",
            "epoch: 23101/´30000, d_loss: 0.00, d_acc: 1.00, g_loss: 0.20\n",
            "epoch: 23201/´30000, d_loss: 0.02, d_acc: 0.98, g_loss: 0.22\n",
            "epoch: 23301/´30000, d_loss: 0.06, d_acc: 0.98, g_loss: 0.02\n",
            "epoch: 23401/´30000, d_loss: 0.01, d_acc: 1.00, g_loss: 1.61\n",
            "epoch: 23501/´30000, d_loss: 0.04, d_acc: 0.98, g_loss: 0.16\n",
            "epoch: 23601/´30000, d_loss: 0.00, d_acc: 1.00, g_loss: 0.24\n",
            "epoch: 23701/´30000, d_loss: 0.35, d_acc: 0.95, g_loss: 0.16\n",
            "epoch: 23801/´30000, d_loss: 0.01, d_acc: 1.00, g_loss: 0.06\n",
            "epoch: 23901/´30000, d_loss: 0.00, d_acc: 1.00, g_loss: 0.02\n",
            "epoch: 24001/´30000, d_loss: 0.00, d_acc: 1.00, g_loss: 0.41\n",
            "epoch: 24101/´30000, d_loss: 0.00, d_acc: 1.00, g_loss: 0.01\n",
            "epoch: 24201/´30000, d_loss: 0.01, d_acc: 1.00, g_loss: 0.03\n",
            "epoch: 24301/´30000, d_loss: 0.06, d_acc: 0.98, g_loss: 0.31\n",
            "epoch: 24401/´30000, d_loss: 0.01, d_acc: 1.00, g_loss: 0.02\n",
            "epoch: 24501/´30000, d_loss: 0.02, d_acc: 1.00, g_loss: 0.19\n",
            "epoch: 24601/´30000, d_loss: 0.03, d_acc: 0.98, g_loss: 0.02\n",
            "epoch: 24701/´30000, d_loss: 0.01, d_acc: 1.00, g_loss: 0.04\n",
            "epoch: 24801/´30000, d_loss: 0.08, d_acc: 0.95, g_loss: 0.03\n",
            "epoch: 24901/´30000, d_loss: 0.01, d_acc: 1.00, g_loss: 0.02\n",
            "epoch: 25001/´30000, d_loss: 0.00, d_acc: 1.00, g_loss: 0.02\n",
            "epoch: 25101/´30000, d_loss: 0.00, d_acc: 1.00, g_loss: 0.01\n",
            "epoch: 25201/´30000, d_loss: 0.01, d_acc: 1.00, g_loss: 0.04\n",
            "epoch: 25301/´30000, d_loss: 0.07, d_acc: 0.98, g_loss: 1.99\n",
            "epoch: 25401/´30000, d_loss: 0.04, d_acc: 0.98, g_loss: 0.04\n",
            "epoch: 25501/´30000, d_loss: 0.02, d_acc: 0.98, g_loss: 0.06\n",
            "epoch: 25601/´30000, d_loss: 0.02, d_acc: 0.98, g_loss: 0.14\n",
            "epoch: 25701/´30000, d_loss: 0.04, d_acc: 0.98, g_loss: 0.21\n",
            "epoch: 25801/´30000, d_loss: 0.13, d_acc: 0.95, g_loss: 1.30\n",
            "epoch: 25901/´30000, d_loss: 0.07, d_acc: 0.95, g_loss: 1.24\n",
            "epoch: 26001/´30000, d_loss: 0.03, d_acc: 0.98, g_loss: 0.74\n",
            "epoch: 26101/´30000, d_loss: 0.00, d_acc: 1.00, g_loss: 0.68\n",
            "epoch: 26201/´30000, d_loss: 0.00, d_acc: 1.00, g_loss: 0.06\n",
            "epoch: 26301/´30000, d_loss: 0.03, d_acc: 0.98, g_loss: 0.11\n",
            "epoch: 26401/´30000, d_loss: 0.16, d_acc: 0.94, g_loss: 1.16\n",
            "epoch: 26501/´30000, d_loss: 0.01, d_acc: 1.00, g_loss: 0.49\n",
            "epoch: 26601/´30000, d_loss: 0.01, d_acc: 1.00, g_loss: 0.04\n",
            "epoch: 26701/´30000, d_loss: 0.58, d_acc: 0.92, g_loss: 0.28\n",
            "epoch: 26801/´30000, d_loss: 0.01, d_acc: 1.00, g_loss: 0.12\n",
            "epoch: 26901/´30000, d_loss: 0.04, d_acc: 0.98, g_loss: 0.47\n",
            "epoch: 27001/´30000, d_loss: 0.00, d_acc: 1.00, g_loss: 0.06\n",
            "epoch: 27101/´30000, d_loss: 0.00, d_acc: 1.00, g_loss: 0.30\n",
            "epoch: 27201/´30000, d_loss: 0.05, d_acc: 0.97, g_loss: 0.28\n",
            "epoch: 27301/´30000, d_loss: 0.00, d_acc: 1.00, g_loss: 0.02\n",
            "epoch: 27401/´30000, d_loss: 0.00, d_acc: 1.00, g_loss: 0.10\n",
            "epoch: 27501/´30000, d_loss: 0.00, d_acc: 1.00, g_loss: 0.02\n",
            "epoch: 27601/´30000, d_loss: 0.00, d_acc: 1.00, g_loss: 0.12\n",
            "epoch: 27701/´30000, d_loss: 0.16, d_acc: 0.95, g_loss: 0.82\n",
            "epoch: 27801/´30000, d_loss: 0.01, d_acc: 1.00, g_loss: 0.21\n",
            "epoch: 27901/´30000, d_loss: 0.00, d_acc: 1.00, g_loss: 0.11\n",
            "epoch: 28001/´30000, d_loss: 0.01, d_acc: 1.00, g_loss: 0.52\n",
            "epoch: 28101/´30000, d_loss: 0.01, d_acc: 1.00, g_loss: 1.27\n",
            "epoch: 28201/´30000, d_loss: 0.07, d_acc: 0.97, g_loss: 0.05\n",
            "epoch: 28301/´30000, d_loss: 0.01, d_acc: 1.00, g_loss: 0.37\n",
            "epoch: 28401/´30000, d_loss: 0.00, d_acc: 1.00, g_loss: 0.12\n",
            "epoch: 28501/´30000, d_loss: 0.07, d_acc: 0.98, g_loss: 0.19\n",
            "epoch: 28601/´30000, d_loss: 0.05, d_acc: 0.97, g_loss: 1.51\n",
            "epoch: 28701/´30000, d_loss: 0.03, d_acc: 0.98, g_loss: 0.11\n",
            "epoch: 28801/´30000, d_loss: 0.03, d_acc: 1.00, g_loss: 0.35\n",
            "epoch: 28901/´30000, d_loss: 0.02, d_acc: 1.00, g_loss: 0.18\n",
            "epoch: 29001/´30000, d_loss: 0.03, d_acc: 0.98, g_loss: 0.18\n",
            "epoch: 29101/´30000, d_loss: 0.03, d_acc: 0.98, g_loss: 0.14\n",
            "epoch: 29201/´30000, d_loss: 0.04, d_acc: 0.98, g_loss: 0.06\n",
            "epoch: 29301/´30000, d_loss: 0.02, d_acc: 1.00, g_loss: 0.16\n",
            "epoch: 29401/´30000, d_loss: 0.01, d_acc: 1.00, g_loss: 0.43\n",
            "epoch: 29501/´30000, d_loss: 0.04, d_acc: 0.98, g_loss: 0.35\n",
            "epoch: 29601/´30000, d_loss: 0.02, d_acc: 1.00, g_loss: 0.07\n",
            "epoch: 29701/´30000, d_loss: 0.06, d_acc: 0.97, g_loss: 0.39\n",
            "epoch: 29801/´30000, d_loss: 0.05, d_acc: 0.97, g_loss: 0.40\n",
            "epoch: 29901/´30000, d_loss: 0.10, d_acc: 0.92, g_loss: 1.78\n"
          ],
          "name": "stdout"
        }
      ]
    },
    {
      "cell_type": "code",
      "metadata": {
        "id": "ZwyvVDCNynzt"
      },
      "source": [
        "plt.plot(g_losses, label='g_losses')\r\n",
        "plt.plot(d_losses, label='d_losses')\r\n",
        "plt.legend()"
      ],
      "execution_count": null,
      "outputs": []
    },
    {
      "cell_type": "code",
      "metadata": {
        "id": "NR90ByL0yqsJ"
      },
      "source": [
        "!ls gan_images\r\n"
      ],
      "execution_count": null,
      "outputs": []
    },
    {
      "cell_type": "code",
      "metadata": {
        "id": "F2g_KABjys0Y"
      },
      "source": [
        "from skimage.io import imread\r\n",
        "a = imread('gan_images/0.png')\r\n",
        "plt.imshow(a)"
      ],
      "execution_count": null,
      "outputs": []
    },
    {
      "cell_type": "code",
      "metadata": {
        "id": "K8SAe-0MyvjS"
      },
      "source": [
        "a = imread('gan_images/1000.png')\r\n",
        "plt.imshow(a)"
      ],
      "execution_count": null,
      "outputs": []
    },
    {
      "cell_type": "code",
      "metadata": {
        "id": "cFW3jz1Lyx4K"
      },
      "source": [
        "a = imread('gan_images/5000.png')\r\n",
        "plt.imshow(a)"
      ],
      "execution_count": null,
      "outputs": []
    },
    {
      "cell_type": "code",
      "metadata": {
        "id": "2MtqaYJ0yzvu"
      },
      "source": [
        "a = imread('gan_images/10000.png')\r\n",
        "plt.imshow(a)"
      ],
      "execution_count": null,
      "outputs": []
    },
    {
      "cell_type": "code",
      "metadata": {
        "id": "NPCp5g3vy3Ep"
      },
      "source": [
        "a = imread('gan_images/20000.png')\r\n",
        "plt.imshow(a)"
      ],
      "execution_count": null,
      "outputs": []
    },
    {
      "cell_type": "code",
      "metadata": {
        "id": "qbzSjQWLy5fB"
      },
      "source": [
        "a = imread('gan_images/29800.png')\r\n",
        "plt.imshow(a)"
      ],
      "execution_count": null,
      "outputs": []
    }
  ]
}